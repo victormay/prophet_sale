{
 "cells": [
  {
   "cell_type": "code",
   "execution_count": 2,
   "metadata": {},
   "outputs": [
    {
     "name": "stdout",
     "output_type": "stream",
     "text": [
      "<class 'pandas.core.frame.DataFrame'>\n",
      "RangeIndex: 80978 entries, 0 to 80977\n",
      "Data columns (total 5 columns):\n",
      " #   Column          Non-Null Count  Dtype  \n",
      "---  ------          --------------  -----  \n",
      " 0   yewuriqi        80978 non-null  object \n",
      " 1   wupinbianma     80978 non-null  object \n",
      " 2   wupinmingcheng  80978 non-null  object \n",
      " 3   kucundanwei     80978 non-null  object \n",
      " 4   caigoushuliang  80978 non-null  float64\n",
      "dtypes: float64(1), object(4)\n",
      "memory usage: 3.1+ MB\n",
      "None\n",
      "       caigoushuliang\n",
      "count    80978.000000\n",
      "mean      1171.161752\n",
      "std       6447.782001\n",
      "min          0.000000\n",
      "25%         12.000000\n",
      "50%        155.000000\n",
      "75%        778.000000\n",
      "max     293076.000000\n"
     ]
    }
   ],
   "source": [
    "import json\n",
    "import pandas as pd\n",
    "from pathlib import Path\n",
    "from datetime import datetime\n",
    "\n",
    "\n",
    "\n",
    "\n",
    "data = pd.read_excel(\"./demo.xlsx\")\n",
    "\n",
    "# print(data.head())\n",
    "print(data.info())\n",
    "print(data.describe())\n",
    "\n",
    "bianmas = data.value_counts([\"wupinbianma\", \"wupinmingcheng\"]).head(20).reset_index()[\"wupinbianma\"]\n",
    "\n",
    "data = data[data[\"wupinbianma\"].isin(bianmas)].reset_index(drop=True)\n",
    "\n"
   ]
  },
  {
   "cell_type": "code",
   "execution_count": 6,
   "metadata": {},
   "outputs": [
    {
     "data": {
      "text/html": [
       "<div>\n",
       "<style scoped>\n",
       "    .dataframe tbody tr th:only-of-type {\n",
       "        vertical-align: middle;\n",
       "    }\n",
       "\n",
       "    .dataframe tbody tr th {\n",
       "        vertical-align: top;\n",
       "    }\n",
       "\n",
       "    .dataframe thead th {\n",
       "        text-align: right;\n",
       "    }\n",
       "</style>\n",
       "<table border=\"1\" class=\"dataframe\">\n",
       "  <thead>\n",
       "    <tr style=\"text-align: right;\">\n",
       "      <th></th>\n",
       "      <th>date</th>\n",
       "      <th>code</th>\n",
       "      <th>name</th>\n",
       "      <th>unit</th>\n",
       "      <th>quantity</th>\n",
       "    </tr>\n",
       "  </thead>\n",
       "  <tbody>\n",
       "    <tr>\n",
       "      <th>0</th>\n",
       "      <td>2024-06-22</td>\n",
       "      <td>01.01.0019</td>\n",
       "      <td>13#火锅油料包600g</td>\n",
       "      <td>袋</td>\n",
       "      <td>43.0</td>\n",
       "    </tr>\n",
       "    <tr>\n",
       "      <th>1</th>\n",
       "      <td>2024-06-22</td>\n",
       "      <td>01.01.0523</td>\n",
       "      <td>合918火锅红油500g</td>\n",
       "      <td>袋</td>\n",
       "      <td>1452.0</td>\n",
       "    </tr>\n",
       "    <tr>\n",
       "      <th>2</th>\n",
       "      <td>2024-06-22</td>\n",
       "      <td>01.01.0524</td>\n",
       "      <td>合918火锅底料500g</td>\n",
       "      <td>袋</td>\n",
       "      <td>2479.0</td>\n",
       "    </tr>\n",
       "    <tr>\n",
       "      <th>3</th>\n",
       "      <td>2024-06-22</td>\n",
       "      <td>01.01.0544</td>\n",
       "      <td>【酵父】1 #火锅红油500g</td>\n",
       "      <td>袋</td>\n",
       "      <td>2151.0</td>\n",
       "    </tr>\n",
       "    <tr>\n",
       "      <th>4</th>\n",
       "      <td>2024-06-22</td>\n",
       "      <td>01.01.0548</td>\n",
       "      <td>【酵父】1 #火锅底料500g</td>\n",
       "      <td>袋</td>\n",
       "      <td>1697.0</td>\n",
       "    </tr>\n",
       "    <tr>\n",
       "      <th>...</th>\n",
       "      <td>...</td>\n",
       "      <td>...</td>\n",
       "      <td>...</td>\n",
       "      <td>...</td>\n",
       "      <td>...</td>\n",
       "    </tr>\n",
       "    <tr>\n",
       "      <th>3225</th>\n",
       "      <td>2024-12-18</td>\n",
       "      <td>01.02.0158</td>\n",
       "      <td>合香辣烤鱼料500g</td>\n",
       "      <td>袋</td>\n",
       "      <td>414.0</td>\n",
       "    </tr>\n",
       "    <tr>\n",
       "      <th>3226</th>\n",
       "      <td>2024-12-18</td>\n",
       "      <td>01.03.0105</td>\n",
       "      <td>利| 2#番茄料包500g</td>\n",
       "      <td>袋</td>\n",
       "      <td>1216.0</td>\n",
       "    </tr>\n",
       "    <tr>\n",
       "      <th>3227</th>\n",
       "      <td>2024-12-18</td>\n",
       "      <td>01.04.0008</td>\n",
       "      <td>豆豉酱500g</td>\n",
       "      <td>袋</td>\n",
       "      <td>47.0</td>\n",
       "    </tr>\n",
       "    <tr>\n",
       "      <th>3228</th>\n",
       "      <td>2024-12-18</td>\n",
       "      <td>01.05.0004</td>\n",
       "      <td>3#牛油调味粉50g</td>\n",
       "      <td>袋</td>\n",
       "      <td>46005.0</td>\n",
       "    </tr>\n",
       "    <tr>\n",
       "      <th>3229</th>\n",
       "      <td>2024-12-18</td>\n",
       "      <td>01.05.0060</td>\n",
       "      <td>资|东方酵主牛油调味粉</td>\n",
       "      <td>袋</td>\n",
       "      <td>2837.0</td>\n",
       "    </tr>\n",
       "  </tbody>\n",
       "</table>\n",
       "<p>3230 rows × 5 columns</p>\n",
       "</div>"
      ],
      "text/plain": [
       "            date        code             name unit  quantity\n",
       "0     2024-06-22  01.01.0019     13#火锅油料包600g    袋      43.0\n",
       "1     2024-06-22  01.01.0523     合918火锅红油500g    袋    1452.0\n",
       "2     2024-06-22  01.01.0524     合918火锅底料500g    袋    2479.0\n",
       "3     2024-06-22  01.01.0544  【酵父】1 #火锅红油500g    袋    2151.0\n",
       "4     2024-06-22  01.01.0548  【酵父】1 #火锅底料500g    袋    1697.0\n",
       "...          ...         ...              ...  ...       ...\n",
       "3225  2024-12-18  01.02.0158       合香辣烤鱼料500g    袋     414.0\n",
       "3226  2024-12-18  01.03.0105    利| 2#番茄料包500g    袋    1216.0\n",
       "3227  2024-12-18  01.04.0008          豆豉酱500g    袋      47.0\n",
       "3228  2024-12-18  01.05.0004       3#牛油调味粉50g    袋   46005.0\n",
       "3229  2024-12-18  01.05.0060      资|东方酵主牛油调味粉    袋    2837.0\n",
       "\n",
       "[3230 rows x 5 columns]"
      ]
     },
     "execution_count": 6,
     "metadata": {},
     "output_type": "execute_result"
    }
   ],
   "source": [
    "data = data.rename(columns={\n",
    "    \"yewuriqi\": \"Date\",\n",
    "    \"wupinbianma\": \"Code\",\n",
    "    \"wupinmingcheng\": \"Name\",\n",
    "    \"kucundanwei\": \"unit\",\n",
    "    \"caigoushuliang\": \"quantity\",\n",
    "})\n",
    "data.columns = [i.lower() for i in data.columns]\n",
    "data"
   ]
  },
  {
   "cell_type": "code",
   "execution_count": null,
   "metadata": {},
   "outputs": [],
   "source": [
    "data = data.rename(columns={\n",
    "    \"yewuriqi\": \"date\",\n",
    "    \"wupinbianma\": \"code\",\n",
    "    \"wupinmingcheng\": \"name\",\n",
    "    \"kucundanwei\": \"unit\",\n",
    "    \"caigoushuliang\": \"quantity\",\n",
    "})"
   ]
  },
  {
   "cell_type": "code",
   "execution_count": 51,
   "metadata": {},
   "outputs": [
    {
     "data": {
      "text/html": [
       "<div>\n",
       "<style scoped>\n",
       "    .dataframe tbody tr th:only-of-type {\n",
       "        vertical-align: middle;\n",
       "    }\n",
       "\n",
       "    .dataframe tbody tr th {\n",
       "        vertical-align: top;\n",
       "    }\n",
       "\n",
       "    .dataframe thead th {\n",
       "        text-align: right;\n",
       "    }\n",
       "</style>\n",
       "<table border=\"1\" class=\"dataframe\">\n",
       "  <thead>\n",
       "    <tr style=\"text-align: right;\">\n",
       "      <th></th>\n",
       "      <th>date</th>\n",
       "      <th>code</th>\n",
       "      <th>name</th>\n",
       "      <th>unit</th>\n",
       "      <th>quantity</th>\n",
       "    </tr>\n",
       "  </thead>\n",
       "  <tbody>\n",
       "    <tr>\n",
       "      <th>0</th>\n",
       "      <td>2024-06-22</td>\n",
       "      <td>01.01.0019</td>\n",
       "      <td>13#火锅油料包600g</td>\n",
       "      <td>袋</td>\n",
       "      <td>43.0</td>\n",
       "    </tr>\n",
       "    <tr>\n",
       "      <th>1</th>\n",
       "      <td>2024-06-22</td>\n",
       "      <td>01.01.0523</td>\n",
       "      <td>合918火锅红油500g</td>\n",
       "      <td>袋</td>\n",
       "      <td>1452.0</td>\n",
       "    </tr>\n",
       "    <tr>\n",
       "      <th>2</th>\n",
       "      <td>2024-06-22</td>\n",
       "      <td>01.01.0524</td>\n",
       "      <td>合918火锅底料500g</td>\n",
       "      <td>袋</td>\n",
       "      <td>2479.0</td>\n",
       "    </tr>\n",
       "    <tr>\n",
       "      <th>3</th>\n",
       "      <td>2024-06-22</td>\n",
       "      <td>01.01.0544</td>\n",
       "      <td>【酵父】1 #火锅红油500g</td>\n",
       "      <td>袋</td>\n",
       "      <td>2151.0</td>\n",
       "    </tr>\n",
       "    <tr>\n",
       "      <th>4</th>\n",
       "      <td>2024-06-22</td>\n",
       "      <td>01.01.0548</td>\n",
       "      <td>【酵父】1 #火锅底料500g</td>\n",
       "      <td>袋</td>\n",
       "      <td>1697.0</td>\n",
       "    </tr>\n",
       "    <tr>\n",
       "      <th>...</th>\n",
       "      <td>...</td>\n",
       "      <td>...</td>\n",
       "      <td>...</td>\n",
       "      <td>...</td>\n",
       "      <td>...</td>\n",
       "    </tr>\n",
       "    <tr>\n",
       "      <th>3225</th>\n",
       "      <td>2024-12-18</td>\n",
       "      <td>01.02.0158</td>\n",
       "      <td>合香辣烤鱼料500g</td>\n",
       "      <td>袋</td>\n",
       "      <td>414.0</td>\n",
       "    </tr>\n",
       "    <tr>\n",
       "      <th>3226</th>\n",
       "      <td>2024-12-18</td>\n",
       "      <td>01.03.0105</td>\n",
       "      <td>利| 2#番茄料包500g</td>\n",
       "      <td>袋</td>\n",
       "      <td>1216.0</td>\n",
       "    </tr>\n",
       "    <tr>\n",
       "      <th>3227</th>\n",
       "      <td>2024-12-18</td>\n",
       "      <td>01.04.0008</td>\n",
       "      <td>豆豉酱500g</td>\n",
       "      <td>袋</td>\n",
       "      <td>47.0</td>\n",
       "    </tr>\n",
       "    <tr>\n",
       "      <th>3228</th>\n",
       "      <td>2024-12-18</td>\n",
       "      <td>01.05.0004</td>\n",
       "      <td>3#牛油调味粉50g</td>\n",
       "      <td>袋</td>\n",
       "      <td>46005.0</td>\n",
       "    </tr>\n",
       "    <tr>\n",
       "      <th>3229</th>\n",
       "      <td>2024-12-18</td>\n",
       "      <td>01.05.0060</td>\n",
       "      <td>资|东方酵主牛油调味粉</td>\n",
       "      <td>袋</td>\n",
       "      <td>2837.0</td>\n",
       "    </tr>\n",
       "  </tbody>\n",
       "</table>\n",
       "<p>3230 rows × 5 columns</p>\n",
       "</div>"
      ],
      "text/plain": [
       "            date        code             name unit  quantity\n",
       "0     2024-06-22  01.01.0019     13#火锅油料包600g    袋      43.0\n",
       "1     2024-06-22  01.01.0523     合918火锅红油500g    袋    1452.0\n",
       "2     2024-06-22  01.01.0524     合918火锅底料500g    袋    2479.0\n",
       "3     2024-06-22  01.01.0544  【酵父】1 #火锅红油500g    袋    2151.0\n",
       "4     2024-06-22  01.01.0548  【酵父】1 #火锅底料500g    袋    1697.0\n",
       "...          ...         ...              ...  ...       ...\n",
       "3225  2024-12-18  01.02.0158       合香辣烤鱼料500g    袋     414.0\n",
       "3226  2024-12-18  01.03.0105    利| 2#番茄料包500g    袋    1216.0\n",
       "3227  2024-12-18  01.04.0008          豆豉酱500g    袋      47.0\n",
       "3228  2024-12-18  01.05.0004       3#牛油调味粉50g    袋   46005.0\n",
       "3229  2024-12-18  01.05.0060      资|东方酵主牛油调味粉    袋    2837.0\n",
       "\n",
       "[3230 rows x 5 columns]"
      ]
     },
     "execution_count": 51,
     "metadata": {},
     "output_type": "execute_result"
    }
   ],
   "source": [
    "data"
   ]
  },
  {
   "cell_type": "code",
   "execution_count": 52,
   "metadata": {},
   "outputs": [],
   "source": [
    "data.to_excel(\"demo_ok.xlsx\")"
   ]
  },
  {
   "cell_type": "code",
   "execution_count": 35,
   "metadata": {},
   "outputs": [
    {
     "name": "stderr",
     "output_type": "stream",
     "text": [
      "C:\\Users\\Administrator\\AppData\\Local\\Temp\\ipykernel_7184\\3517265203.py:2: SettingWithCopyWarning: \n",
      "A value is trying to be set on a copy of a slice from a DataFrame.\n",
      "Try using .loc[row_indexer,col_indexer] = value instead\n",
      "\n",
      "See the caveats in the documentation: https://pandas.pydata.org/pandas-docs/stable/user_guide/indexing.html#returning-a-view-versus-a-copy\n",
      "  data_[\"date\"] = pd.to_datetime(data_[\"date\"])\n"
     ]
    },
    {
     "data": {
      "text/html": [
       "<div>\n",
       "<style scoped>\n",
       "    .dataframe tbody tr th:only-of-type {\n",
       "        vertical-align: middle;\n",
       "    }\n",
       "\n",
       "    .dataframe tbody tr th {\n",
       "        vertical-align: top;\n",
       "    }\n",
       "\n",
       "    .dataframe thead th {\n",
       "        text-align: right;\n",
       "    }\n",
       "</style>\n",
       "<table border=\"1\" class=\"dataframe\">\n",
       "  <thead>\n",
       "    <tr style=\"text-align: right;\">\n",
       "      <th></th>\n",
       "      <th>date</th>\n",
       "      <th>code</th>\n",
       "      <th>quantity</th>\n",
       "    </tr>\n",
       "  </thead>\n",
       "  <tbody>\n",
       "    <tr>\n",
       "      <th>0</th>\n",
       "      <td>2024-06-22</td>\n",
       "      <td>01.01.0019</td>\n",
       "      <td>43.0</td>\n",
       "    </tr>\n",
       "    <tr>\n",
       "      <th>1</th>\n",
       "      <td>2024-06-22</td>\n",
       "      <td>01.01.0523</td>\n",
       "      <td>1452.0</td>\n",
       "    </tr>\n",
       "    <tr>\n",
       "      <th>2</th>\n",
       "      <td>2024-06-22</td>\n",
       "      <td>01.01.0524</td>\n",
       "      <td>2479.0</td>\n",
       "    </tr>\n",
       "    <tr>\n",
       "      <th>3</th>\n",
       "      <td>2024-06-22</td>\n",
       "      <td>01.01.0544</td>\n",
       "      <td>2151.0</td>\n",
       "    </tr>\n",
       "    <tr>\n",
       "      <th>4</th>\n",
       "      <td>2024-06-22</td>\n",
       "      <td>01.01.0548</td>\n",
       "      <td>1697.0</td>\n",
       "    </tr>\n",
       "  </tbody>\n",
       "</table>\n",
       "</div>"
      ],
      "text/plain": [
       "        date        code  quantity\n",
       "0 2024-06-22  01.01.0019      43.0\n",
       "1 2024-06-22  01.01.0523    1452.0\n",
       "2 2024-06-22  01.01.0524    2479.0\n",
       "3 2024-06-22  01.01.0544    2151.0\n",
       "4 2024-06-22  01.01.0548    1697.0"
      ]
     },
     "execution_count": 35,
     "metadata": {},
     "output_type": "execute_result"
    }
   ],
   "source": [
    "data_ = data[[\"date\", \"code\", \"quantity\"]]\n",
    "data_[\"date\"] = pd.to_datetime(data_[\"date\"])\n",
    "data_.head()"
   ]
  },
  {
   "cell_type": "code",
   "execution_count": 36,
   "metadata": {},
   "outputs": [
    {
     "name": "stdout",
     "output_type": "stream",
     "text": [
      "<class 'pandas.core.frame.DataFrame'>\n",
      "DatetimeIndex: 162 entries, 2024-06-22 to 2024-12-18\n",
      "Data columns (total 20 columns):\n",
      " #   Column      Non-Null Count  Dtype  \n",
      "---  ------      --------------  -----  \n",
      " 0   01.01.0019  162 non-null    float64\n",
      " 1   01.01.0523  162 non-null    float64\n",
      " 2   01.01.0524  162 non-null    float64\n",
      " 3   01.01.0544  162 non-null    float64\n",
      " 4   01.01.0548  162 non-null    float64\n",
      " 5   01.01.0562  162 non-null    float64\n",
      " 6   01.01.0577  162 non-null    float64\n",
      " 7   01.01.0582  162 non-null    float64\n",
      " 8   01.01.0592  162 non-null    float64\n",
      " 9   01.01.0594  162 non-null    float64\n",
      " 10  01.02.0018  162 non-null    float64\n",
      " 11  01.02.0047  162 non-null    float64\n",
      " 12  01.02.0154  162 non-null    float64\n",
      " 13  01.02.0155  162 non-null    float64\n",
      " 14  01.02.0157  162 non-null    float64\n",
      " 15  01.02.0158  162 non-null    float64\n",
      " 16  01.03.0105  162 non-null    float64\n",
      " 17  01.04.0008  162 non-null    float64\n",
      " 18  01.05.0004  162 non-null    float64\n",
      " 19  01.05.0060  162 non-null    float64\n",
      "dtypes: float64(20)\n",
      "memory usage: 26.6 KB\n"
     ]
    }
   ],
   "source": [
    "data_2 = data_.pivot(index=\"date\", columns=\"code\", values=\"quantity\").interpolate()\n",
    "data_2.info()"
   ]
  },
  {
   "cell_type": "code",
   "execution_count": 48,
   "metadata": {},
   "outputs": [],
   "source": [
    "# data_2.plot()"
   ]
  },
  {
   "cell_type": "code",
   "execution_count": 49,
   "metadata": {},
   "outputs": [
    {
     "data": {
      "text/plain": [
       "<Axes: xlabel='date'>"
      ]
     },
     "execution_count": 49,
     "metadata": {},
     "output_type": "execute_result"
    },
    {
     "data": {
      "image/png": "[encoded data removed]",
      "text/plain": [
       "<Figure size 640x480 with 1 Axes>"
      ]
     },
     "metadata": {},
     "output_type": "display_data"
    }
   ],
   "source": [
    "data_2.iloc[:, 19].plot(legend=True)"
   ]
  },
  {
   "cell_type": "code",
   "execution_count": 25,
   "metadata": {},
   "outputs": [
    {
     "data": {
      "text/plain": [
       "<Axes: xlabel='date'>"
      ]
     },
     "execution_count": 25,
     "metadata": {},
     "output_type": "execute_result"
    },
    {
     "data": {
      "image/png": "[encoded data removed]",
      "text/plain": [
       "<Figure size 640x480 with 1 Axes>"
      ]
     },
     "metadata": {},
     "output_type": "display_data"
    }
   ],
   "source": [
    "data_2.iloc[:, 1].plot(legend=True)"
   ]
  },
  {
   "cell_type": "code",
   "execution_count": 74,
   "metadata": {},
   "outputs": [],
   "source": [
    "import pandas as pd\n",
    "from config.config import Config\n",
    "from datetime import datetime, timedelta\n",
    "from copy import deepcopy"
   ]
  },
  {
   "cell_type": "code",
   "execution_count": 75,
   "metadata": {},
   "outputs": [
    {
     "name": "stdout",
     "output_type": "stream",
     "text": [
      "<class 'pandas.core.frame.DataFrame'>\n",
      "RangeIndex: 3230 entries, 0 to 3229\n",
      "Data columns (total 5 columns):\n",
      " #   Column    Non-Null Count  Dtype \n",
      "---  ------    --------------  ----- \n",
      " 0   date      3230 non-null   object\n",
      " 1   code      3230 non-null   object\n",
      " 2   name      3230 non-null   object\n",
      " 3   unit      3230 non-null   object\n",
      " 4   quantity  3230 non-null   int64 \n",
      "dtypes: int64(1), object(4)\n",
      "memory usage: 126.3+ KB\n"
     ]
    }
   ],
   "source": [
    "old_data = pd.read_excel(\"./demo_ok.xlsx\")\n",
    "old_data.head()\n",
    "old_data.info()"
   ]
  },
  {
   "cell_type": "code",
   "execution_count": 76,
   "metadata": {},
   "outputs": [],
   "source": [
    "# new_data = old_data.tail(5).reset_index(drop=True)\n",
    "# new_data.loc[5] = [\"2024-12-19\", 888]\n",
    "# new_data.loc[6] = [\"2024-12-20\", 888]\n",
    "# new_data.loc[7] = [\"2024-12-21\", 888]\n",
    "# new_data"
   ]
  },
  {
   "cell_type": "code",
   "execution_count": null,
   "metadata": {},
   "outputs": [
    {
     "name": "stderr",
     "output_type": "stream",
     "text": [
      "C:\\Users\\Administrator\\AppData\\Local\\Temp\\ipykernel_24304\\3981944690.py:7: SettingWithCopyWarning: \n",
      "A value is trying to be set on a copy of a slice from a DataFrame.\n",
      "Try using .loc[row_indexer,col_indexer] = value instead\n",
      "\n",
      "See the caveats in the documentation: https://pandas.pydata.org/pandas-docs/stable/user_guide/indexing.html#returning-a-view-versus-a-copy\n",
      "  new_data[\"date\"] = date.strftime(\"%Y-%m-%d\")\n"
     ]
    },
    {
     "data": {
      "text/plain": [
       "array(['2024-12-18', '2024-12-19', '2024-12-20', '2024-12-21',\n",
       "       '2024-12-22'], dtype=object)"
      ]
     },
     "execution_count": 52,
     "metadata": {},
     "output_type": "execute_result"
    }
   ],
   "source": [
    "new_data = old_data[old_data[\"date\"]==\"2024-12-17\"]\n",
    "\n",
    "news = []\n",
    "date = datetime.strptime(new_data.date.unique().item(), \"%Y-%m-%d\")\n",
    "for i in range(5):\n",
    "    date: datetime = date + timedelta(days=1)\n",
    "    new_data[\"date\"] = date.strftime(\"%Y-%m-%d\")\n",
    "    news.append(deepcopy(new_data))\n",
    "\n",
    "a = pd.concat(news, ignore_index=True)\n",
    "a.date.unique()"
   ]
  },
  {
   "cell_type": "code",
   "execution_count": 73,
   "metadata": {},
   "outputs": [
    {
     "data": {
      "text/html": [
       "<div>\n",
       "<style scoped>\n",
       "    .dataframe tbody tr th:only-of-type {\n",
       "        vertical-align: middle;\n",
       "    }\n",
       "\n",
       "    .dataframe tbody tr th {\n",
       "        vertical-align: top;\n",
       "    }\n",
       "\n",
       "    .dataframe thead th {\n",
       "        text-align: right;\n",
       "    }\n",
       "</style>\n",
       "<table border=\"1\" class=\"dataframe\">\n",
       "  <thead>\n",
       "    <tr style=\"text-align: right;\">\n",
       "      <th></th>\n",
       "      <th>date</th>\n",
       "      <th>quantity</th>\n",
       "    </tr>\n",
       "  </thead>\n",
       "  <tbody>\n",
       "    <tr>\n",
       "      <th>149</th>\n",
       "      <td>2024-12-07</td>\n",
       "      <td>628</td>\n",
       "    </tr>\n",
       "    <tr>\n",
       "      <th>150</th>\n",
       "      <td>2024-12-08</td>\n",
       "      <td>203</td>\n",
       "    </tr>\n",
       "    <tr>\n",
       "      <th>151</th>\n",
       "      <td>2024-12-09</td>\n",
       "      <td>5</td>\n",
       "    </tr>\n",
       "    <tr>\n",
       "      <th>152</th>\n",
       "      <td>2024-12-10</td>\n",
       "      <td>443</td>\n",
       "    </tr>\n",
       "    <tr>\n",
       "      <th>153</th>\n",
       "      <td>2024-12-11</td>\n",
       "      <td>1076</td>\n",
       "    </tr>\n",
       "    <tr>\n",
       "      <th>154</th>\n",
       "      <td>2024-12-12</td>\n",
       "      <td>856</td>\n",
       "    </tr>\n",
       "    <tr>\n",
       "      <th>155</th>\n",
       "      <td>2024-12-13</td>\n",
       "      <td>278</td>\n",
       "    </tr>\n",
       "    <tr>\n",
       "      <th>156</th>\n",
       "      <td>2024-12-14</td>\n",
       "      <td>209</td>\n",
       "    </tr>\n",
       "    <tr>\n",
       "      <th>157</th>\n",
       "      <td>2024-12-15</td>\n",
       "      <td>199</td>\n",
       "    </tr>\n",
       "    <tr>\n",
       "      <th>158</th>\n",
       "      <td>2024-12-16</td>\n",
       "      <td>555</td>\n",
       "    </tr>\n",
       "    <tr>\n",
       "      <th>159</th>\n",
       "      <td>2024-12-17</td>\n",
       "      <td>177</td>\n",
       "    </tr>\n",
       "    <tr>\n",
       "      <th>160</th>\n",
       "      <td>2024-12-18</td>\n",
       "      <td>1236</td>\n",
       "    </tr>\n",
       "    <tr>\n",
       "      <th>161</th>\n",
       "      <td>2024-12-19</td>\n",
       "      <td>888</td>\n",
       "    </tr>\n",
       "    <tr>\n",
       "      <th>162</th>\n",
       "      <td>2024-12-20</td>\n",
       "      <td>888</td>\n",
       "    </tr>\n",
       "    <tr>\n",
       "      <th>163</th>\n",
       "      <td>2024-12-21</td>\n",
       "      <td>888</td>\n",
       "    </tr>\n",
       "  </tbody>\n",
       "</table>\n",
       "</div>"
      ],
      "text/plain": [
       "           date  quantity\n",
       "149  2024-12-07       628\n",
       "150  2024-12-08       203\n",
       "151  2024-12-09         5\n",
       "152  2024-12-10       443\n",
       "153  2024-12-11      1076\n",
       "154  2024-12-12       856\n",
       "155  2024-12-13       278\n",
       "156  2024-12-14       209\n",
       "157  2024-12-15       199\n",
       "158  2024-12-16       555\n",
       "159  2024-12-17       177\n",
       "160  2024-12-18      1236\n",
       "161  2024-12-19       888\n",
       "162  2024-12-20       888\n",
       "163  2024-12-21       888"
      ]
     },
     "execution_count": 73,
     "metadata": {},
     "output_type": "execute_result"
    }
   ],
   "source": [
    "a = pd.concat([old_data, new_data], ignore_index=True).drop_duplicates().sort_values(\"date\", ascending=True).reset_index(drop=True)\n",
    "a.tail(15)"
   ]
  },
  {
   "cell_type": "code",
   "execution_count": 35,
   "metadata": {},
   "outputs": [
    {
     "data": {
      "text/html": [
       "<div>\n",
       "<style scoped>\n",
       "    .dataframe tbody tr th:only-of-type {\n",
       "        vertical-align: middle;\n",
       "    }\n",
       "\n",
       "    .dataframe tbody tr th {\n",
       "        vertical-align: top;\n",
       "    }\n",
       "\n",
       "    .dataframe thead th {\n",
       "        text-align: right;\n",
       "    }\n",
       "</style>\n",
       "<table border=\"1\" class=\"dataframe\">\n",
       "  <thead>\n",
       "    <tr style=\"text-align: right;\">\n",
       "      <th></th>\n",
       "      <th>date</th>\n",
       "      <th>quantity</th>\n",
       "    </tr>\n",
       "  </thead>\n",
       "  <tbody>\n",
       "    <tr>\n",
       "      <th>154</th>\n",
       "      <td>2024-12-12</td>\n",
       "      <td>856</td>\n",
       "    </tr>\n",
       "    <tr>\n",
       "      <th>155</th>\n",
       "      <td>2024-12-13</td>\n",
       "      <td>278</td>\n",
       "    </tr>\n",
       "    <tr>\n",
       "      <th>156</th>\n",
       "      <td>2024-12-14</td>\n",
       "      <td>209</td>\n",
       "    </tr>\n",
       "    <tr>\n",
       "      <th>157</th>\n",
       "      <td>2024-12-15</td>\n",
       "      <td>199</td>\n",
       "    </tr>\n",
       "    <tr>\n",
       "      <th>163</th>\n",
       "      <td>2024-12-16</td>\n",
       "      <td>555</td>\n",
       "    </tr>\n",
       "    <tr>\n",
       "      <th>159</th>\n",
       "      <td>2024-12-17</td>\n",
       "      <td>177</td>\n",
       "    </tr>\n",
       "    <tr>\n",
       "      <th>165</th>\n",
       "      <td>2024-12-18</td>\n",
       "      <td>1236</td>\n",
       "    </tr>\n",
       "    <tr>\n",
       "      <th>166</th>\n",
       "      <td>2024-12-19</td>\n",
       "      <td>512</td>\n",
       "    </tr>\n",
       "    <tr>\n",
       "      <th>167</th>\n",
       "      <td>2024-12-20</td>\n",
       "      <td>512</td>\n",
       "    </tr>\n",
       "    <tr>\n",
       "      <th>168</th>\n",
       "      <td>2024-12-21</td>\n",
       "      <td>512</td>\n",
       "    </tr>\n",
       "  </tbody>\n",
       "</table>\n",
       "</div>"
      ],
      "text/plain": [
       "           date  quantity\n",
       "154  2024-12-12       856\n",
       "155  2024-12-13       278\n",
       "156  2024-12-14       209\n",
       "157  2024-12-15       199\n",
       "163  2024-12-16       555\n",
       "159  2024-12-17       177\n",
       "165  2024-12-18      1236\n",
       "166  2024-12-19       512\n",
       "167  2024-12-20       512\n",
       "168  2024-12-21       512"
      ]
     },
     "execution_count": 35,
     "metadata": {},
     "output_type": "execute_result"
    }
   ],
   "source": [
    "a = pd.concat([old_data, new_data], ignore_index=True).sort_values(\"date\", ascending=True).tail(15)\n",
    "a = a.drop_duplicates()\n",
    "a"
   ]
  },
  {
   "cell_type": "code",
   "execution_count": null,
   "metadata": {},
   "outputs": [],
   "source": []
  },
  {
   "cell_type": "code",
   "execution_count": null,
   "metadata": {},
   "outputs": [],
   "source": []
  },
  {
   "cell_type": "code",
   "execution_count": null,
   "metadata": {},
   "outputs": [],
   "source": []
  },
  {
   "cell_type": "code",
   "execution_count": null,
   "metadata": {},
   "outputs": [],
   "source": []
  },
  {
   "cell_type": "code",
   "execution_count": null,
   "metadata": {},
   "outputs": [],
   "source": []
  },
  {
   "cell_type": "code",
   "execution_count": null,
   "metadata": {},
   "outputs": [],
   "source": []
  },
  {
   "cell_type": "code",
   "execution_count": null,
   "metadata": {},
   "outputs": [],
   "source": []
  },
  {
   "cell_type": "code",
   "execution_count": null,
   "metadata": {},
   "outputs": [],
   "source": []
  },
  {
   "cell_type": "code",
   "execution_count": null,
   "metadata": {},
   "outputs": [],
   "source": []
  },
  {
   "cell_type": "code",
   "execution_count": null,
   "metadata": {},
   "outputs": [],
   "source": []
  },
  {
   "cell_type": "code",
   "execution_count": null,
   "metadata": {},
   "outputs": [],
   "source": []
  },
  {
   "cell_type": "code",
   "execution_count": null,
   "metadata": {},
   "outputs": [],
   "source": []
  },
  {
   "cell_type": "code",
   "execution_count": null,
   "metadata": {},
   "outputs": [],
   "source": []
  },
  {
   "cell_type": "code",
   "execution_count": null,
   "metadata": {},
   "outputs": [],
   "source": []
  },
  {
   "cell_type": "code",
   "execution_count": null,
   "metadata": {},
   "outputs": [],
   "source": []
  },
  {
   "cell_type": "code",
   "execution_count": null,
   "metadata": {},
   "outputs": [],
   "source": []
  },
  {
   "cell_type": "code",
   "execution_count": null,
   "metadata": {},
   "outputs": [],
   "source": []
  },
  {
   "cell_type": "code",
   "execution_count": null,
   "metadata": {},
   "outputs": [],
   "source": []
  }
 ],
 "metadata": {
  "kernelspec": {
   "display_name": "py310_torch222_cu121",
   "language": "python",
   "name": "python3"
  },
  "language_info": {
   "codemirror_mode": {
    "name": "ipython",
    "version": 3
   },
   "file_extension": ".py",
   "mimetype": "text/x-python",
   "name": "python",
   "nbconvert_exporter": "python",
   "pygments_lexer": "ipython3",
   "version": "3.10.10"
  }
 },
 "nbformat": 4,
 "nbformat_minor": 2
}
